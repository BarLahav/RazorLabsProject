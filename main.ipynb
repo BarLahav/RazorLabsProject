{
 "cells": [
  {
   "cell_type": "code",
   "execution_count": 1,
   "metadata": {},
   "outputs": [],
   "source": [
    "import os \n",
    "import pandas as pd"
   ]
  },
  {
   "cell_type": "markdown",
   "metadata": {},
   "source": [
    "#### Reading the data"
   ]
  },
  {
   "cell_type": "code",
   "execution_count": 17,
   "metadata": {
    "scrolled": true
   },
   "outputs": [
    {
     "name": "stderr",
     "output_type": "stream",
     "text": [
      "/Applications/anaconda3/lib/python3.7/site-packages/IPython/core/interactiveshell.py:3063: DtypeWarning: Columns (2) have mixed types.Specify dtype option on import or set low_memory=False.\n",
      "  interactivity=interactivity, compiler=compiler, result=result)\n"
     ]
    }
   ],
   "source": [
    "data_path = './data-engineering-task-files/dataset.csv'\n",
    "metadata_path ='./data-engineering-task-files/metadata.csv'\n",
    "data_df = pd.read_csv(data_path, names=['Name', 'Reading Date', 'Value'])\n",
    "metadata_df = pd.read_csv(metadata_path)"
   ]
  },
  {
   "cell_type": "markdown",
   "metadata": {},
   "source": [
    "####  data example"
   ]
  },
  {
   "cell_type": "code",
   "execution_count": 58,
   "metadata": {},
   "outputs": [
    {
     "data": {
      "text/html": [
       "<div>\n",
       "<style scoped>\n",
       "    .dataframe tbody tr th:only-of-type {\n",
       "        vertical-align: middle;\n",
       "    }\n",
       "\n",
       "    .dataframe tbody tr th {\n",
       "        vertical-align: top;\n",
       "    }\n",
       "\n",
       "    .dataframe thead th {\n",
       "        text-align: right;\n",
       "    }\n",
       "</style>\n",
       "<table border=\"1\" class=\"dataframe\">\n",
       "  <thead>\n",
       "    <tr style=\"text-align: right;\">\n",
       "      <th></th>\n",
       "      <th>Site_name</th>\n",
       "      <th>plc_name</th>\n",
       "      <th>Sub System Name</th>\n",
       "      <th>Reading type</th>\n",
       "      <th>Reading Attribute</th>\n",
       "      <th>Reading Date</th>\n",
       "      <th>Value</th>\n",
       "    </tr>\n",
       "  </thead>\n",
       "  <tbody>\n",
       "    <tr>\n",
       "      <th>0</th>\n",
       "      <td>Huston</td>\n",
       "      <td>PLC0120</td>\n",
       "      <td>TX640</td>\n",
       "      <td>D1</td>\n",
       "      <td>VT008</td>\n",
       "      <td>07-Apr-2017 12:00:00.954 AM</td>\n",
       "      <td>6690</td>\n",
       "    </tr>\n",
       "    <tr>\n",
       "      <th>1</th>\n",
       "      <td>Huston</td>\n",
       "      <td>PLC0120</td>\n",
       "      <td>TX640</td>\n",
       "      <td>D1</td>\n",
       "      <td>VT008</td>\n",
       "      <td>07-Apr-2017 12:00:04.098 AM</td>\n",
       "      <td>6700</td>\n",
       "    </tr>\n",
       "    <tr>\n",
       "      <th>2</th>\n",
       "      <td>Huston</td>\n",
       "      <td>PLC0120</td>\n",
       "      <td>TX640</td>\n",
       "      <td>D1</td>\n",
       "      <td>VT008</td>\n",
       "      <td>07-Apr-2017 12:00:07.219 AM</td>\n",
       "      <td>6690</td>\n",
       "    </tr>\n",
       "    <tr>\n",
       "      <th>3</th>\n",
       "      <td>Huston</td>\n",
       "      <td>PLC0120</td>\n",
       "      <td>TX640</td>\n",
       "      <td>D1</td>\n",
       "      <td>VT008</td>\n",
       "      <td>07-Apr-2017 12:00:15.576 AM</td>\n",
       "      <td>6670</td>\n",
       "    </tr>\n",
       "    <tr>\n",
       "      <th>4</th>\n",
       "      <td>Huston</td>\n",
       "      <td>PLC0120</td>\n",
       "      <td>TX640</td>\n",
       "      <td>D1</td>\n",
       "      <td>VT008</td>\n",
       "      <td>07-Apr-2017 12:00:16.605 AM</td>\n",
       "      <td>6680</td>\n",
       "    </tr>\n",
       "  </tbody>\n",
       "</table>\n",
       "</div>"
      ],
      "text/plain": [
       "  Site_name plc_name Sub System Name Reading type Reading Attribute  \\\n",
       "0    Huston  PLC0120           TX640           D1             VT008   \n",
       "1    Huston  PLC0120           TX640           D1             VT008   \n",
       "2    Huston  PLC0120           TX640           D1             VT008   \n",
       "3    Huston  PLC0120           TX640           D1             VT008   \n",
       "4    Huston  PLC0120           TX640           D1             VT008   \n",
       "\n",
       "                  Reading Date Value  \n",
       "0  07-Apr-2017 12:00:00.954 AM  6690  \n",
       "1  07-Apr-2017 12:00:04.098 AM  6700  \n",
       "2  07-Apr-2017 12:00:07.219 AM  6690  \n",
       "3  07-Apr-2017 12:00:15.576 AM  6670  \n",
       "4  07-Apr-2017 12:00:16.605 AM  6680  "
      ]
     },
     "execution_count": 58,
     "metadata": {},
     "output_type": "execute_result"
    }
   ],
   "source": [
    "data_df.head()"
   ]
  },
  {
   "cell_type": "markdown",
   "metadata": {},
   "source": [
    "###  Task1 - Splitting name column to new_cols"
   ]
  },
  {
   "cell_type": "code",
   "execution_count": 18,
   "metadata": {},
   "outputs": [],
   "source": [
    "new_cols = ['Site_name', 'PLC name', 'Sub System Name', 'Reading type', 'Reading Attribute']"
   ]
  },
  {
   "cell_type": "code",
   "execution_count": 19,
   "metadata": {},
   "outputs": [],
   "source": [
    "name_col_splitted_to_new_cols_df = data_df['Name'].str.split('.', expand=True)\n",
    "name_col_splitted_to_new_cols_df.drop(5, inplace=True, axis=1)"
   ]
  },
  {
   "cell_type": "code",
   "execution_count": 20,
   "metadata": {},
   "outputs": [],
   "source": [
    "data_df[new_cols] = name_col_splitted_to_new_cols_df"
   ]
  },
  {
   "cell_type": "markdown",
   "metadata": {},
   "source": [
    "###### Organizing the dataframe and dropping name column after extracting neccesary data"
   ]
  },
  {
   "cell_type": "code",
   "execution_count": 21,
   "metadata": {},
   "outputs": [],
   "source": [
    "data_df.drop('Name', axis=1, inplace=True)\n",
    "data_df = data_df.loc[:, ['Site_name', 'PLC name', 'Sub System Name', 'Reading type', 'Reading Attribute', 'Reading Date', 'Value']]"
   ]
  },
  {
   "cell_type": "code",
   "execution_count": 55,
   "metadata": {},
   "outputs": [
    {
     "data": {
      "text/html": [
       "<div>\n",
       "<style scoped>\n",
       "    .dataframe tbody tr th:only-of-type {\n",
       "        vertical-align: middle;\n",
       "    }\n",
       "\n",
       "    .dataframe tbody tr th {\n",
       "        vertical-align: top;\n",
       "    }\n",
       "\n",
       "    .dataframe thead th {\n",
       "        text-align: right;\n",
       "    }\n",
       "</style>\n",
       "<table border=\"1\" class=\"dataframe\">\n",
       "  <thead>\n",
       "    <tr style=\"text-align: right;\">\n",
       "      <th></th>\n",
       "      <th>Site_name</th>\n",
       "      <th>plc_name</th>\n",
       "      <th>Sub System Name</th>\n",
       "      <th>Reading type</th>\n",
       "      <th>Reading Attribute</th>\n",
       "      <th>Reading Date</th>\n",
       "      <th>Value</th>\n",
       "    </tr>\n",
       "  </thead>\n",
       "  <tbody>\n",
       "    <tr>\n",
       "      <th>0</th>\n",
       "      <td>Huston</td>\n",
       "      <td>PLC0120</td>\n",
       "      <td>TX640</td>\n",
       "      <td>D1</td>\n",
       "      <td>VT008</td>\n",
       "      <td>07-Apr-2017 12:00:00.954 AM</td>\n",
       "      <td>6690</td>\n",
       "    </tr>\n",
       "    <tr>\n",
       "      <th>1</th>\n",
       "      <td>Huston</td>\n",
       "      <td>PLC0120</td>\n",
       "      <td>TX640</td>\n",
       "      <td>D1</td>\n",
       "      <td>VT008</td>\n",
       "      <td>07-Apr-2017 12:00:04.098 AM</td>\n",
       "      <td>6700</td>\n",
       "    </tr>\n",
       "    <tr>\n",
       "      <th>2</th>\n",
       "      <td>Huston</td>\n",
       "      <td>PLC0120</td>\n",
       "      <td>TX640</td>\n",
       "      <td>D1</td>\n",
       "      <td>VT008</td>\n",
       "      <td>07-Apr-2017 12:00:07.219 AM</td>\n",
       "      <td>6690</td>\n",
       "    </tr>\n",
       "    <tr>\n",
       "      <th>3</th>\n",
       "      <td>Huston</td>\n",
       "      <td>PLC0120</td>\n",
       "      <td>TX640</td>\n",
       "      <td>D1</td>\n",
       "      <td>VT008</td>\n",
       "      <td>07-Apr-2017 12:00:15.576 AM</td>\n",
       "      <td>6670</td>\n",
       "    </tr>\n",
       "    <tr>\n",
       "      <th>4</th>\n",
       "      <td>Huston</td>\n",
       "      <td>PLC0120</td>\n",
       "      <td>TX640</td>\n",
       "      <td>D1</td>\n",
       "      <td>VT008</td>\n",
       "      <td>07-Apr-2017 12:00:16.605 AM</td>\n",
       "      <td>6680</td>\n",
       "    </tr>\n",
       "  </tbody>\n",
       "</table>\n",
       "</div>"
      ],
      "text/plain": [
       "  Site_name plc_name Sub System Name Reading type Reading Attribute  \\\n",
       "0    Huston  PLC0120           TX640           D1             VT008   \n",
       "1    Huston  PLC0120           TX640           D1             VT008   \n",
       "2    Huston  PLC0120           TX640           D1             VT008   \n",
       "3    Huston  PLC0120           TX640           D1             VT008   \n",
       "4    Huston  PLC0120           TX640           D1             VT008   \n",
       "\n",
       "                  Reading Date Value  \n",
       "0  07-Apr-2017 12:00:00.954 AM  6690  \n",
       "1  07-Apr-2017 12:00:04.098 AM  6700  \n",
       "2  07-Apr-2017 12:00:07.219 AM  6690  \n",
       "3  07-Apr-2017 12:00:15.576 AM  6670  \n",
       "4  07-Apr-2017 12:00:16.605 AM  6680  "
      ]
     },
     "execution_count": 55,
     "metadata": {},
     "output_type": "execute_result"
    }
   ],
   "source": [
    "data_df.head()"
   ]
  },
  {
   "cell_type": "markdown",
   "metadata": {},
   "source": [
    "### Task2 - adding metadata to the data_df"
   ]
  },
  {
   "cell_type": "markdown",
   "metadata": {},
   "source": [
    "####  metadata example"
   ]
  },
  {
   "cell_type": "code",
   "execution_count": 57,
   "metadata": {},
   "outputs": [
    {
     "data": {
      "text/html": [
       "<div>\n",
       "<style scoped>\n",
       "    .dataframe tbody tr th:only-of-type {\n",
       "        vertical-align: middle;\n",
       "    }\n",
       "\n",
       "    .dataframe tbody tr th {\n",
       "        vertical-align: top;\n",
       "    }\n",
       "\n",
       "    .dataframe thead th {\n",
       "        text-align: right;\n",
       "    }\n",
       "</style>\n",
       "<table border=\"1\" class=\"dataframe\">\n",
       "  <thead>\n",
       "    <tr style=\"text-align: right;\">\n",
       "      <th></th>\n",
       "      <th>machine_type</th>\n",
       "      <th>machine_vendor</th>\n",
       "      <th>machine_serial_number</th>\n",
       "      <th>machine_production_date</th>\n",
       "    </tr>\n",
       "  </thead>\n",
       "  <tbody>\n",
       "    <tr>\n",
       "      <th>0</th>\n",
       "      <td>excavator</td>\n",
       "      <td>Bosch</td>\n",
       "      <td>erDcTdYZDhD4B8</td>\n",
       "      <td>07-Apr-2002 12:00:00.000 AM</td>\n",
       "    </tr>\n",
       "    <tr>\n",
       "      <th>1</th>\n",
       "      <td>wheel trencher</td>\n",
       "      <td>Thyssenkrupp</td>\n",
       "      <td>JGfe94HRvv2ET6</td>\n",
       "      <td>01-Apr-2001 12:00:00.000 AM</td>\n",
       "    </tr>\n",
       "    <tr>\n",
       "      <th>2</th>\n",
       "      <td>generator</td>\n",
       "      <td>Schindler</td>\n",
       "      <td>Hrjh9JqdPEthME</td>\n",
       "      <td>23-Apr-2005 12:00:00.000 AM</td>\n",
       "    </tr>\n",
       "    <tr>\n",
       "      <th>3</th>\n",
       "      <td>front loader</td>\n",
       "      <td>CAT</td>\n",
       "      <td>KSsii3goEEXtdA</td>\n",
       "      <td>28-Apr-2005 12:00:00.000 AM</td>\n",
       "    </tr>\n",
       "    <tr>\n",
       "      <th>4</th>\n",
       "      <td>scraper</td>\n",
       "      <td>Schindler</td>\n",
       "      <td>w65SzFksi39Lv9</td>\n",
       "      <td>23-Apr-2005 12:00:00.000 AM</td>\n",
       "    </tr>\n",
       "  </tbody>\n",
       "</table>\n",
       "</div>"
      ],
      "text/plain": [
       "     machine_type machine_vendor machine_serial_number  \\\n",
       "0       excavator          Bosch        erDcTdYZDhD4B8   \n",
       "1  wheel trencher   Thyssenkrupp        JGfe94HRvv2ET6   \n",
       "2       generator      Schindler        Hrjh9JqdPEthME   \n",
       "3    front loader            CAT        KSsii3goEEXtdA   \n",
       "4         scraper      Schindler        w65SzFksi39Lv9   \n",
       "\n",
       "       machine_production_date  \n",
       "0  07-Apr-2002 12:00:00.000 AM  \n",
       "1  01-Apr-2001 12:00:00.000 AM  \n",
       "2  23-Apr-2005 12:00:00.000 AM  \n",
       "3  28-Apr-2005 12:00:00.000 AM  \n",
       "4  23-Apr-2005 12:00:00.000 AM  "
      ]
     },
     "execution_count": 57,
     "metadata": {},
     "output_type": "execute_result"
    }
   ],
   "source": [
    "metadata_df.head()"
   ]
  },
  {
   "cell_type": "code",
   "execution_count": 37,
   "metadata": {},
   "outputs": [],
   "source": [
    "plc_to_machine_type = {'PLC303': 'excavator', \n",
    "                       'PLC0120': 'wheel trencher',\n",
    "                       'PLC0240': 'generator',\n",
    "                       'PLC970': 'front loader', \n",
    "                        'PLC030': 'scraper'}"
   ]
  },
  {
   "cell_type": "code",
   "execution_count": 44,
   "metadata": {},
   "outputs": [],
   "source": [
    "plc_to_machine_type_df = pd.DataFrame(list(plc_to_machine_type.items()), columns=['plc_name', 'machine_type'])"
   ]
  },
  {
   "cell_type": "code",
   "execution_count": 46,
   "metadata": {},
   "outputs": [],
   "source": [
    "metadata_with_plc_name_df = pd.merge(metadata_df, plc_to_machine_type_df, on='machine_type')"
   ]
  },
  {
   "cell_type": "code",
   "execution_count": 52,
   "metadata": {},
   "outputs": [],
   "source": [
    "data_df.rename(columns={'PLC name': 'plc_name'}, inplace=True)"
   ]
  },
  {
   "cell_type": "code",
   "execution_count": 53,
   "metadata": {},
   "outputs": [],
   "source": [
    "main_df = pd.merge(data_df, metadata_with_plc_name_df, on='plc_name')"
   ]
  },
  {
   "cell_type": "code",
   "execution_count": 56,
   "metadata": {
    "scrolled": false
   },
   "outputs": [
    {
     "data": {
      "text/html": [
       "<div>\n",
       "<style scoped>\n",
       "    .dataframe tbody tr th:only-of-type {\n",
       "        vertical-align: middle;\n",
       "    }\n",
       "\n",
       "    .dataframe tbody tr th {\n",
       "        vertical-align: top;\n",
       "    }\n",
       "\n",
       "    .dataframe thead th {\n",
       "        text-align: right;\n",
       "    }\n",
       "</style>\n",
       "<table border=\"1\" class=\"dataframe\">\n",
       "  <thead>\n",
       "    <tr style=\"text-align: right;\">\n",
       "      <th></th>\n",
       "      <th>Site_name</th>\n",
       "      <th>plc_name</th>\n",
       "      <th>Sub System Name</th>\n",
       "      <th>Reading type</th>\n",
       "      <th>Reading Attribute</th>\n",
       "      <th>Reading Date</th>\n",
       "      <th>Value</th>\n",
       "      <th>machine_type</th>\n",
       "      <th>machine_vendor</th>\n",
       "      <th>machine_serial_number</th>\n",
       "      <th>machine_production_date</th>\n",
       "    </tr>\n",
       "  </thead>\n",
       "  <tbody>\n",
       "    <tr>\n",
       "      <th>0</th>\n",
       "      <td>Huston</td>\n",
       "      <td>PLC0120</td>\n",
       "      <td>TX640</td>\n",
       "      <td>D1</td>\n",
       "      <td>VT008</td>\n",
       "      <td>07-Apr-2017 12:00:00.954 AM</td>\n",
       "      <td>6690</td>\n",
       "      <td>wheel trencher</td>\n",
       "      <td>Thyssenkrupp</td>\n",
       "      <td>JGfe94HRvv2ET6</td>\n",
       "      <td>01-Apr-2001 12:00:00.000 AM</td>\n",
       "    </tr>\n",
       "    <tr>\n",
       "      <th>1</th>\n",
       "      <td>Huston</td>\n",
       "      <td>PLC0120</td>\n",
       "      <td>TX640</td>\n",
       "      <td>D1</td>\n",
       "      <td>VT008</td>\n",
       "      <td>07-Apr-2017 12:00:04.098 AM</td>\n",
       "      <td>6700</td>\n",
       "      <td>wheel trencher</td>\n",
       "      <td>Thyssenkrupp</td>\n",
       "      <td>JGfe94HRvv2ET6</td>\n",
       "      <td>01-Apr-2001 12:00:00.000 AM</td>\n",
       "    </tr>\n",
       "    <tr>\n",
       "      <th>2</th>\n",
       "      <td>Huston</td>\n",
       "      <td>PLC0120</td>\n",
       "      <td>TX640</td>\n",
       "      <td>D1</td>\n",
       "      <td>VT008</td>\n",
       "      <td>07-Apr-2017 12:00:07.219 AM</td>\n",
       "      <td>6690</td>\n",
       "      <td>wheel trencher</td>\n",
       "      <td>Thyssenkrupp</td>\n",
       "      <td>JGfe94HRvv2ET6</td>\n",
       "      <td>01-Apr-2001 12:00:00.000 AM</td>\n",
       "    </tr>\n",
       "    <tr>\n",
       "      <th>3</th>\n",
       "      <td>Huston</td>\n",
       "      <td>PLC0120</td>\n",
       "      <td>TX640</td>\n",
       "      <td>D1</td>\n",
       "      <td>VT008</td>\n",
       "      <td>07-Apr-2017 12:00:15.576 AM</td>\n",
       "      <td>6670</td>\n",
       "      <td>wheel trencher</td>\n",
       "      <td>Thyssenkrupp</td>\n",
       "      <td>JGfe94HRvv2ET6</td>\n",
       "      <td>01-Apr-2001 12:00:00.000 AM</td>\n",
       "    </tr>\n",
       "    <tr>\n",
       "      <th>4</th>\n",
       "      <td>Huston</td>\n",
       "      <td>PLC0120</td>\n",
       "      <td>TX640</td>\n",
       "      <td>D1</td>\n",
       "      <td>VT008</td>\n",
       "      <td>07-Apr-2017 12:00:16.605 AM</td>\n",
       "      <td>6680</td>\n",
       "      <td>wheel trencher</td>\n",
       "      <td>Thyssenkrupp</td>\n",
       "      <td>JGfe94HRvv2ET6</td>\n",
       "      <td>01-Apr-2001 12:00:00.000 AM</td>\n",
       "    </tr>\n",
       "  </tbody>\n",
       "</table>\n",
       "</div>"
      ],
      "text/plain": [
       "  Site_name plc_name Sub System Name Reading type Reading Attribute  \\\n",
       "0    Huston  PLC0120           TX640           D1             VT008   \n",
       "1    Huston  PLC0120           TX640           D1             VT008   \n",
       "2    Huston  PLC0120           TX640           D1             VT008   \n",
       "3    Huston  PLC0120           TX640           D1             VT008   \n",
       "4    Huston  PLC0120           TX640           D1             VT008   \n",
       "\n",
       "                  Reading Date Value    machine_type machine_vendor  \\\n",
       "0  07-Apr-2017 12:00:00.954 AM  6690  wheel trencher   Thyssenkrupp   \n",
       "1  07-Apr-2017 12:00:04.098 AM  6700  wheel trencher   Thyssenkrupp   \n",
       "2  07-Apr-2017 12:00:07.219 AM  6690  wheel trencher   Thyssenkrupp   \n",
       "3  07-Apr-2017 12:00:15.576 AM  6670  wheel trencher   Thyssenkrupp   \n",
       "4  07-Apr-2017 12:00:16.605 AM  6680  wheel trencher   Thyssenkrupp   \n",
       "\n",
       "  machine_serial_number      machine_production_date  \n",
       "0        JGfe94HRvv2ET6  01-Apr-2001 12:00:00.000 AM  \n",
       "1        JGfe94HRvv2ET6  01-Apr-2001 12:00:00.000 AM  \n",
       "2        JGfe94HRvv2ET6  01-Apr-2001 12:00:00.000 AM  \n",
       "3        JGfe94HRvv2ET6  01-Apr-2001 12:00:00.000 AM  \n",
       "4        JGfe94HRvv2ET6  01-Apr-2001 12:00:00.000 AM  "
      ]
     },
     "execution_count": 56,
     "metadata": {},
     "output_type": "execute_result"
    }
   ],
   "source": [
    "main_df.head()"
   ]
  },
  {
   "cell_type": "code",
   "execution_count": null,
   "metadata": {},
   "outputs": [],
   "source": []
  }
 ],
 "metadata": {
  "kernelspec": {
   "display_name": "Python 3",
   "language": "python",
   "name": "python3"
  },
  "language_info": {
   "codemirror_mode": {
    "name": "ipython",
    "version": 3
   },
   "file_extension": ".py",
   "mimetype": "text/x-python",
   "name": "python",
   "nbconvert_exporter": "python",
   "pygments_lexer": "ipython3",
   "version": "3.7.6"
  }
 },
 "nbformat": 4,
 "nbformat_minor": 4
}
